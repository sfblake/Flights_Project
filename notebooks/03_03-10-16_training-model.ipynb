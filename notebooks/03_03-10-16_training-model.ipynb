{
 "cells": [
  {
   "cell_type": "markdown",
   "metadata": {},
   "source": [
    "## Training a model\n",
    "\n",
    "How will we judge the success of the cancellation classifier? Let's look at a number of measures:  \n",
    "-The confusion matrix  \n",
    "  True Negative  |  False Positive  \n",
    "  False Negative |  True Positive  \n",
    "-Precision, #True positive/(#True positive + #False positive).  \n",
    "-Recall, #True positive/(#True positive + #False negative).  \n",
    "-F score, 2PR/(P+R).  \n",
    "-Accuracy score, percentage of our guesses correct.\n",
    "\n",
    "We can also assign a cost saved, using the previous numbers of +\\$8000 for a true positive, -\\$825 for a false positive.  \n",
    "(This will give us the cost saved compared to the case if all flights were run)."
   ]
  },
  {
   "cell_type": "code",
   "execution_count": 1,
   "metadata": {
    "collapsed": true
   },
   "outputs": [],
   "source": [
    "def cost_saved(conf_matrix):\n",
    "    cost = conf_matrix[1][1]*8000 - conf_matrix[0][1]*825\n",
    "    return(cost)"
   ]
  },
  {
   "cell_type": "code",
   "execution_count": 2,
   "metadata": {
    "collapsed": false
   },
   "outputs": [
    {
     "name": "stdout",
     "output_type": "stream",
     "text": [
      "We have 5819079 samples and 124 features\n"
     ]
    }
   ],
   "source": [
    "import warnings\n",
    "warnings.filterwarnings('ignore')\n",
    "import gc\n",
    "\n",
    "import pandas as pd\n",
    "\n",
    "model_data = pd.read_hdf('../data/processed/model_data.hdf')\n",
    "\n",
    "print('We have {0} samples and {1} features'.format(model_data.shape[0],model_data.shape[1]-1))"
   ]
  },
  {
   "cell_type": "markdown",
   "metadata": {},
   "source": [
    "This is too large a data set to train with my laptop's memory, so let's only look at a randomly selected subset (10% ~=600,000 rows) and a different, equally sized subset for cross validation."
   ]
  },
  {
   "cell_type": "code",
   "execution_count": 4,
   "metadata": {
    "collapsed": true
   },
   "outputs": [],
   "source": [
    "shuffled_data = model_data.sample(frac=0.2)\n",
    "cv_data = shuffled_data.iloc[:int(len(shuffled_data)/2),:]\n",
    "shuffled_data = shuffled_data.iloc[int(len(shuffled_data)/2):,:]"
   ]
  },
  {
   "cell_type": "markdown",
   "metadata": {},
   "source": [
    "To begin let's look only at the features generated from the original data."
   ]
  },
  {
   "cell_type": "markdown",
   "metadata": {},
   "source": [
    "### Logistic regression\n",
    "\n",
    "Let's start with the simplest algorithm first: logistic regression with the default L2 penalty, with the data split 9:1 for train:test and feature scaling applied.  \n",
    "As we have few positives let's add 'balanced' class scaling, which will emphasise the features which contribute most to the positives."
   ]
  },
  {
   "cell_type": "code",
   "execution_count": 5,
   "metadata": {
    "collapsed": false
   },
   "outputs": [
    {
     "name": "stdout",
     "output_type": "stream",
     "text": [
      "Confusion matrix\n",
      "        0       1\n",
      "0  377685  195181\n",
      "1    2729    6313\n",
      "precision = 0.03, recall = 0.70, F1 = 0.06, accuracy = 0.66, saved cost per flight = $-189.93\n"
     ]
    }
   ],
   "source": [
    "import numpy as np\n",
    "from sklearn.linear_model import LogisticRegression\n",
    "from sklearn.preprocessing import StandardScaler\n",
    "from sklearn.cross_validation import KFold\n",
    "from sklearn.metrics import confusion_matrix, precision_recall_fscore_support, accuracy_score\n",
    "\n",
    "alg = LogisticRegression(class_weight='balanced')\n",
    "#Features from original data\n",
    "predictors = list(model_data.columns[2:64])+list(model_data.columns[66:81])\n",
    "\n",
    "#Split the data into 10 subsets\n",
    "kf = KFold(shuffled_data.shape[0], n_folds = 10, random_state = 1)\n",
    "predictions = []\n",
    "\n",
    "#Train and predict\n",
    "for train, test in kf:\n",
    "    X_train = (shuffled_data[predictors].iloc[train,:])\n",
    "    scaler = StandardScaler().fit(X_train)\n",
    "    y_train = shuffled_data['Cancelled'].iloc[train]\n",
    "    alg.fit(scaler.transform(X_train), y_train)\n",
    "    X_test = (shuffled_data[predictors].iloc[test,:])\n",
    "    y_test = shuffled_data['Cancelled'].iloc[test]\n",
    "    test_predictions = alg.predict(scaler.transform(X_test))\n",
    "    predictions.append(test_predictions)\n",
    "    gc.collect()\n",
    "\n",
    "predictions = np.concatenate(predictions,axis = 0)\n",
    "conf_matrix = confusion_matrix(shuffled_data['Cancelled'].values, predictions)\n",
    "print('Confusion matrix')\n",
    "print(pd.DataFrame(conf_matrix))\n",
    "scores = precision_recall_fscore_support(shuffled_data['Cancelled'].values, predictions)\n",
    "print(('precision = {0:.2f}, recall = {1:.2f}, F1 = {2:.2f}, ' \n",
    "       'accuracy = {3:.2f}, saved cost per flight = ${4:.2f}').format(scores[0][1],scores[1][1],scores[2][1],\n",
    "                                                        accuracy_score(shuffled_data['Cancelled'].values, predictions),\n",
    "                                                        cost_saved(conf_matrix)/len(predictions)))"
   ]
  },
  {
   "cell_type": "markdown",
   "metadata": {},
   "source": [
    "Our recall is pretty high, so we are identifying most of the actual cancellations.  \n",
    "However the precision is very low as we are generating a lot of false positives, so with this model out of every ~33 flights not run only one would have actually been cancelled.  \n",
    "Because of these false positives, this model results in a loss of -$190 per flight.\n",
    "\n",
    "Now let's try regularising the regression to see if, by reducing the variance, we can get any improvement on cost."
   ]
  },
  {
   "cell_type": "code",
   "execution_count": 6,
   "metadata": {
    "collapsed": false
   },
   "outputs": [
    {
     "name": "stdout",
     "output_type": "stream",
     "text": [
      "C = 1e-07\n",
      "Confusion matrix\n",
      "        0       1\n",
      "0  298323  274543\n",
      "1    2048    6994\n",
      "precision = 0.02, recall = 0.77, F1 = 0.05, accuracy = 0.52, saved cost per flight = $-293.08\n",
      "C = 1e-06\n",
      "Confusion matrix\n",
      "        0       1\n",
      "0  307448  265418\n",
      "1    2098    6944\n",
      "precision = 0.03, recall = 0.77, F1 = 0.05, accuracy = 0.54, saved cost per flight = $-280.83\n",
      "C = 1e-05\n",
      "Confusion matrix\n",
      "        0       1\n",
      "0  341915  230951\n",
      "1    2391    6651\n",
      "precision = 0.03, recall = 0.74, F1 = 0.05, accuracy = 0.60, saved cost per flight = $-235.99\n",
      "C = 0.0001\n",
      "Confusion matrix\n",
      "        0       1\n",
      "0  370614  202252\n",
      "1    2621    6421\n",
      "precision = 0.03, recall = 0.71, F1 = 0.06, accuracy = 0.65, saved cost per flight = $-198.47\n",
      "C = 0.001\n",
      "Confusion matrix\n",
      "        0       1\n",
      "0  376798  196068\n",
      "1    2713    6329\n",
      "precision = 0.03, recall = 0.70, F1 = 0.06, accuracy = 0.66, saved cost per flight = $-190.97\n",
      "C = 0.01\n",
      "Confusion matrix\n",
      "        0       1\n",
      "0  377606  195260\n",
      "1    2730    6312\n",
      "precision = 0.03, recall = 0.70, F1 = 0.06, accuracy = 0.66, saved cost per flight = $-190.05\n",
      "C = 0.1\n",
      "Confusion matrix\n",
      "        0       1\n",
      "0  377675  195191\n",
      "1    2729    6313\n",
      "precision = 0.03, recall = 0.70, F1 = 0.06, accuracy = 0.66, saved cost per flight = $-189.94\n",
      "C = 1.0\n",
      "Confusion matrix\n",
      "        0       1\n",
      "0  377685  195181\n",
      "1    2729    6313\n",
      "precision = 0.03, recall = 0.70, F1 = 0.06, accuracy = 0.66, saved cost per flight = $-189.93\n",
      "C = 10.0\n",
      "Confusion matrix\n",
      "        0       1\n",
      "0  377686  195180\n",
      "1    2729    6313\n",
      "precision = 0.03, recall = 0.70, F1 = 0.06, accuracy = 0.66, saved cost per flight = $-189.93\n",
      "C = 100.0\n",
      "Confusion matrix\n",
      "        0       1\n",
      "0  377686  195180\n",
      "1    2729    6313\n",
      "precision = 0.03, recall = 0.70, F1 = 0.06, accuracy = 0.66, saved cost per flight = $-189.93\n",
      "C = 1000.0\n",
      "Confusion matrix\n",
      "        0       1\n",
      "0  377686  195180\n",
      "1    2729    6313\n",
      "precision = 0.03, recall = 0.70, F1 = 0.06, accuracy = 0.66, saved cost per flight = $-189.93\n"
     ]
    }
   ],
   "source": [
    "#Try these Cs\n",
    "gc.collect()\n",
    "C_list = [1e-7, 1e-6, 1e-5, 1e-4, 1e-3, 1e-2, 1e-1, 1e0, 1e1, 1e2, 1e3]\n",
    "\n",
    "predictors = list(model_data.columns[2:64])+list(model_data.columns[66:81])\n",
    "\n",
    "conf_matrix = {}\n",
    "coef = {}\n",
    "precision = []; recall = []; F1 = []; accuracy = []; saved_cost = []\n",
    "for C in C_list:\n",
    "    alg = LogisticRegression(class_weight='balanced', C=C)\n",
    "    \n",
    "    #Split the data into 10 subsets\n",
    "    kf = KFold(shuffled_data.shape[0], n_folds = 10, random_state = 1)\n",
    "    predictions = []\n",
    "\n",
    "    #Train and predict\n",
    "    for train, test in kf:\n",
    "        X_train = (shuffled_data[predictors].iloc[train,:])\n",
    "        scaler = StandardScaler().fit(X_train)\n",
    "        y_train = shuffled_data['Cancelled'].iloc[train]\n",
    "        alg.fit(scaler.transform(X_train), y_train)\n",
    "        X_test = (shuffled_data[predictors].iloc[test,:])\n",
    "        y_test = shuffled_data['Cancelled'].iloc[test]\n",
    "        test_predictions = alg.predict(scaler.transform(X_test))\n",
    "        predictions.append(test_predictions)\n",
    "        gc.collect()\n",
    "\n",
    "    predictions = np.concatenate(predictions,axis = 0)\n",
    "    coef[C] = alg.coef_\n",
    "    conf_matrix[C] = confusion_matrix(shuffled_data['Cancelled'].values, predictions)\n",
    "    print('C = {0}\\nConfusion matrix'.format(C))\n",
    "    print(pd.DataFrame(conf_matrix[C]))\n",
    "    \n",
    "    scores = precision_recall_fscore_support(shuffled_data['Cancelled'].values, predictions)\n",
    "    precision.append(scores[0][1]); recall.append(scores[1][1]); F1.append(scores[2][1])\n",
    "    accuracy.append(accuracy_score(shuffled_data['Cancelled'].values, predictions))\n",
    "    saved_cost.append(cost_saved(conf_matrix[C])/len(predictions))\n",
    "    \n",
    "    print(('precision = {0:.2f}, recall = {1:.2f}, F1 = {2:.2f}, ' \n",
    "       'accuracy = {3:.2f}, saved cost per flight = ${4:.2f}').format(precision[-1],recall[-1],F1[-1],\n",
    "                                                                   accuracy[-1],saved_cost[-1]))\n",
    "    "
   ]
  },
  {
   "cell_type": "code",
   "execution_count": 10,
   "metadata": {
    "collapsed": false
   },
   "outputs": [
    {
     "data": {
      "image/png": "[encoded data removed]",
      "text/plain": [
       "<matplotlib.figure.Figure at 0x1c38d630>"
      ]
     },
     "metadata": {},
     "output_type": "display_data"
    }
   ],
   "source": [
    "%matplotlib inline\n",
    "import matplotlib.pyplot as plt\n",
    "from matplotlib.ticker import ScalarFormatter\n",
    "y_formatter = ScalarFormatter(useOffset=True)\n",
    "\n",
    "fig = plt.figure(figsize=(13,3))\n",
    "ax1 = fig.add_subplot(131)\n",
    "ax1.plot(C_list,precision,'-or')\n",
    "ax1.set_xlabel('C')\n",
    "ax1.set_xscale('log')\n",
    "ax1.set_ylabel('Precision', color='r')\n",
    "ax1.set_title('Precision and recall for\\n logistic regression')\n",
    "for tl in ax1.get_yticklabels():\n",
    "    tl.set_color('r')\n",
    "\n",
    "ax2 = ax1.twinx()\n",
    "ax2.plot(C_list, recall, '-ob')\n",
    "ax2.set_ylabel('Recall', color='b')\n",
    "for tl in ax2.get_yticklabels():\n",
    "    tl.set_color('b')\n",
    "    \n",
    "ax3 = fig.add_subplot(132)\n",
    "ax3.plot(C_list,F1,'-or')\n",
    "ax3.set_xlabel('C')\n",
    "ax3.set_xscale('log')\n",
    "ax3.set_ylabel('F1', color='r')\n",
    "ax3.set_title('F1 and accuracy for\\n logistic regression')\n",
    "for tl in ax3.get_yticklabels():\n",
    "    tl.set_color('r')\n",
    "\n",
    "ax4 = ax3.twinx()\n",
    "ax4.plot(C_list, accuracy, '-ob')\n",
    "ax4.set_ylabel('Accuracy', color='b')\n",
    "ax4.yaxis.set_major_formatter(y_formatter)\n",
    "for tl in ax4.get_yticklabels():\n",
    "    tl.set_color('b')\n",
    "    \n",
    "ax5 = fig.add_subplot(133)\n",
    "ax5.plot(C_list,saved_cost,'-or')\n",
    "ax5.set_xlabel('min leaf size')\n",
    "ax5.set_xscale('log')\n",
    "ax5.set_ylabel('Cost ($)',color='r')\n",
    "ax5.set_title('Cost saved per flight\\n for logistic regression')\n",
    "for tl in ax5.get_yticklabels():\n",
    "    tl.set_color('r')\n",
    "\n",
    "num_pos = [(conf_matrix[C][0][1]+conf_matrix[C][1][1])*100/sum(sum(conf_matrix[C]))\n",
    "           for C in C_list]\n",
    "ax6 = ax5.twinx()\n",
    "ax6.plot(C_list, num_pos, '-ob')\n",
    "ax6.set_ylabel('% guessed positive', color='b')\n",
    "ax6.yaxis.set_major_formatter(y_formatter)\n",
    "for tl in ax6.get_yticklabels():\n",
    "    tl.set_color('b')\n",
    "\n",
    "fig.tight_layout()\n",
    "fig.savefig('../reports/figures/classification/log_reg_C', bbox_inches='tight')"
   ]
  },
  {
   "cell_type": "markdown",
   "metadata": {},
   "source": [
    "Increasing the regularisation (decreasing C) helps the recall further by introducing more bias, but at the detriment of the precision, with a balance between the two at C=1e-5.  \n",
    "Decreasing the regularisation (increasing C) has little effect on either precision or recall, so the best cost is that we first found for C=1."
   ]
  },
  {
   "cell_type": "markdown",
   "metadata": {},
   "source": [
    "Let's look at which features were the most important:"
   ]
  },
  {
   "cell_type": "code",
   "execution_count": 11,
   "metadata": {
    "collapsed": false
   },
   "outputs": [
    {
     "name": "stdout",
     "output_type": "stream",
     "text": [
      "Days after winter storm: -0.661352820195\n",
      "DL: -0.372698497111\n",
      "MQ: 0.252823853387\n",
      "AS: -0.213855856748\n",
      "Distance: -0.187959239687\n",
      "Week in year: 0.186754481363\n",
      "HA: -0.183430034978\n",
      "Days from public event: 0.161721224789\n",
      "Origin NY: 0.148940697566\n",
      "EV: 0.146426771238\n"
     ]
    }
   ],
   "source": [
    "for index in np.argsort(abs(coef[1]))[0][:-11:-1]:\n",
    "    print(predictors[index]+': '+str(coef[1][0][index]))"
   ]
  },
  {
   "cell_type": "markdown",
   "metadata": {},
   "source": [
    "So, as might be expected, knowing when the large storms were is the most important. As New York was one of the worst hit, it is also has a positive trend for cancellations.\n",
    "\n",
    "Other temporal features are also important: there are more cancellations at the start of the week, and after public events.\n",
    "\n",
    "Perhaps more surprisingly, flight distance is also high up: longer flights are cancelled less.\n",
    "\n",
    "For the carriers, Delta Airlines (DL) cancels less while American Eagle (MQ) cancels more. This agrees with what we saw in our explanatory data analysis:"
   ]
  },
  {
   "cell_type": "code",
   "execution_count": 26,
   "metadata": {
    "collapsed": false
   },
   "outputs": [],
   "source": [
    "carriers = pd.read_csv('../data/raw/carriersnew.csv')\n",
    "carriers.dropna(how='any', inplace=True)\n",
    "carriers.reset_index(inplace=True)\n",
    "carriers.drop('index', axis=1, inplace=True)\n",
    "carriers.set_index('Code', inplace=True)\n",
    "carriers.ix['US','Description'] = 'US Airways Inc.'\n",
    "carriers = carriers[~carriers['number of flights'].isnull()]\n",
    "carriers.sort_values(by='number of flights', inplace=True, ascending=False)\n",
    "carriers['Trend'] = [coef[1][0][np.array(predictors)==index][0] for index in carriers.index]"
   ]
  },
  {
   "cell_type": "code",
   "execution_count": 28,
   "metadata": {
    "collapsed": false
   },
   "outputs": [
    {
     "data": {
      "image/png": "[encoded data removed]",
      "text/plain": [
       "<matplotlib.figure.Figure at 0xeda0438>"
      ]
     },
     "metadata": {},
     "output_type": "display_data"
    }
   ],
   "source": [
    "import colorsys\n",
    "\n",
    "N = len(carriers)\n",
    "HSV_tuples = [(x*1.0/N, 1, 1) for x in range(N)]\n",
    "RGB_tuples = [colorsys.hsv_to_rgb(*x) for x in HSV_tuples]\n",
    "col_dict = {}\n",
    "for i in range(N):\n",
    "    col_dict[carriers.index[i]] = RGB_tuples[i]\n",
    "\n",
    "fig = plt.figure(figsize=(6,3))\n",
    "#Plot the number of flights\n",
    "ax1 = fig.add_subplot(111)\n",
    "bars = ax1.bar(np.arange(0,N), -carriers['Trend'].values)\n",
    "for i in range(N):\n",
    "    bars[i].set_color(col_dict[carriers.index[i]])\n",
    "ax1.set_ylabel('Logistic regression coefficient')\n",
    "ax1.set_xticks(np.arange(0,N)+0.5)\n",
    "ax1.set_xticklabels(carriers['Description'].values, rotation=45, ha='right')\n",
    "ax1.set_title('Trend not to cancel by carrier')\n",
    "\n",
    "fig.savefig('../reports/figures/classification/log_reg_carrier', bbox_inches='tight')"
   ]
  },
  {
   "cell_type": "markdown",
   "metadata": {},
   "source": [
    "So the trends for each carrier picked out by logistic regression agree with those we saw in the exploratory data analysis.\n",
    "\n",
    "Now let's try an algorithm we'd expect to perform rather better."
   ]
  },
  {
   "cell_type": "markdown",
   "metadata": {},
   "source": [
    "Now let's look at the performance on the test set."
   ]
  },
  {
   "cell_type": "code",
   "execution_count": 20,
   "metadata": {
    "collapsed": false
   },
   "outputs": [
    {
     "name": "stdout",
     "output_type": "stream",
     "text": [
      "Confusion matrix\n",
      "        0       1\n",
      "0  382825  190286\n",
      "1    2683    6114\n",
      "precision = 0.03, recall = 0.70, F1 = 0.06, accuracy = 0.67, saved cost per flight = $-185.72\n"
     ]
    }
   ],
   "source": [
    "alg = LogisticRegression(class_weight='balanced', C=1)\n",
    "#Features from original data\n",
    "predictors = list(model_data.columns[2:64])+list(model_data.columns[66:81])\n",
    "\n",
    "#Split the data into 10 subsets\n",
    "kf = KFold(cv_data.shape[0], n_folds = 10, random_state = 1)\n",
    "predictions = []\n",
    "\n",
    "#Train and predict\n",
    "for train, test in kf:\n",
    "    X_train = (cv_data[predictors].iloc[train,:])\n",
    "    scaler = StandardScaler().fit(X_train)\n",
    "    y_train = cv_data['Cancelled'].iloc[train]\n",
    "    alg.fit(scaler.transform(X_train), y_train)\n",
    "    X_test = (cv_data[predictors].iloc[test,:])\n",
    "    y_test = cv_data['Cancelled'].iloc[test]\n",
    "    test_predictions = alg.predict(scaler.transform(X_test))\n",
    "    predictions.append(test_predictions)\n",
    "    gc.collect()\n",
    "\n",
    "predictions = np.concatenate(predictions,axis = 0)\n",
    "conf_matrix = confusion_matrix(cv_data['Cancelled'].values, predictions)\n",
    "print('Confusion matrix')\n",
    "print(pd.DataFrame(conf_matrix))\n",
    "scores = precision_recall_fscore_support(cv_data['Cancelled'].values, predictions)\n",
    "print(('precision = {0:.2f}, recall = {1:.2f}, F1 = {2:.2f}, ' \n",
    "       'accuracy = {3:.2f}, saved cost per flight = ${4:.2f}').format(scores[0][1],scores[1][1],scores[2][1],\n",
    "                                                        accuracy_score(cv_data['Cancelled'].values, predictions),\n",
    "                                                        cost_saved(conf_matrix)/len(predictions)))"
   ]
  },
  {
   "cell_type": "markdown",
   "metadata": {},
   "source": [
    "### Random forest classification\n",
    "\n",
    "Let's try a random forest classifier on the data, again doing a 9:1 train:test split on 10% of the total data."
   ]
  },
  {
   "cell_type": "code",
   "execution_count": null,
   "metadata": {
    "collapsed": true
   },
   "outputs": [],
   "source": [
    "from sklearn.ensemble import RandomForestClassifier\n",
    "\n",
    "alg = RandomForestClassifier()\n",
    "predictors = list(model_data.columns[2:64])+list(model_data.columns[66:81])\n",
    "\n",
    "#Split the data into 10 subsets\n",
    "kf = KFold(shuffled_data.shape[0], n_folds = 10, random_state = 1)\n",
    "predictions = []\n",
    "\n",
    "#Train and predict\n",
    "for train, test in kf:\n",
    "    X_train = (shuffled_data[predictors].iloc[train,:])\n",
    "    scaler = StandardScaler().fit(X_train)\n",
    "    y_train = shuffled_data['Cancelled'].iloc[train]\n",
    "    alg.fit(scaler.transform(X_train), y_train)\n",
    "    X_test = (shuffled_data[predictors].iloc[test,:])\n",
    "    y_test = shuffled_data['Cancelled'].iloc[test]\n",
    "    test_predictions = alg.predict(scaler.transform(X_test))\n",
    "    predictions.append(test_predictions)\n",
    "    gc.collect()\n",
    "\n",
    "predictions = np.concatenate(predictions,axis = 0)\n",
    "conf_matrix = confusion_matrix(shuffled_data['Cancelled'].values, predictions)\n",
    "print('Confusion matrix')\n",
    "print(pd.DataFrame(conf_matrix))\n",
    "scores = precision_recall_fscore_support(shuffled_data['Cancelled'].values, predictions)\n",
    "print(('precision = {0:.2f}, recall = {1:.2f}, F1 = {2:.2f}, ' \n",
    "       'accuracy = {3:.2f}, saved cost per flight = ${4:.2f}').format(scores[0][1],scores[1][1],scores[2][1],\n",
    "                                                        accuracy_score(shuffled_data['Cancelled'].values, predictions),\n",
    "                                                        cost_saved(conf_matrix)/len(predictions)))"
   ]
  },
  {
   "cell_type": "markdown",
   "metadata": {},
   "source": [
    "So for random forest our recall is far smaller but out precision is far higher: we're predicting fewer cancellations, but with much higher accuracy.  \n",
    "This means we can now making a saving by not running the identified flights.\n",
    "\n",
    "Now let's try and optimise the classifier."
   ]
  },
  {
   "cell_type": "code",
   "execution_count": 14,
   "metadata": {
    "collapsed": false
   },
   "outputs": [
    {
     "name": "stdout",
     "output_type": "stream",
     "text": [
      "Min leaf size = 1\n",
      "Confusion matrix\n",
      "        0     1\n",
      "0  572124   742\n",
      "1    7800  1242\n",
      "precision = 0.63, recall = 0.14, F1 = 0.23, accuracy = 0.99, saved cost per flight = $16.02\n",
      "Min leaf size = 2\n",
      "Confusion matrix\n",
      "        0    1\n",
      "0  572649  217\n",
      "1    8218  824\n",
      "precision = 0.79, recall = 0.09, F1 = 0.16, accuracy = 0.99, saved cost per flight = $11.02\n",
      "Min leaf size = 3\n",
      "Confusion matrix\n",
      "        0    1\n",
      "0  572741  125\n",
      "1    8471  571\n",
      "precision = 0.82, recall = 0.06, F1 = 0.12, accuracy = 0.99, saved cost per flight = $7.67\n",
      "Min leaf size = 5\n",
      "Confusion matrix\n",
      "        0    1\n",
      "0  572797   69\n",
      "1    8726  316\n",
      "precision = 0.82, recall = 0.03, F1 = 0.07, accuracy = 0.98, saved cost per flight = $4.25\n",
      "Min leaf size = 7\n",
      "Confusion matrix\n",
      "        0    1\n",
      "0  572823   43\n",
      "1    8829  213\n",
      "precision = 0.83, recall = 0.02, F1 = 0.05, accuracy = 0.98, saved cost per flight = $2.87\n",
      "Min leaf size = 10\n",
      "Confusion matrix\n",
      "        0    1\n",
      "0  572844   22\n",
      "1    8925  117\n",
      "precision = 0.84, recall = 0.01, F1 = 0.03, accuracy = 0.98, saved cost per flight = $1.58\n"
     ]
    }
   ],
   "source": [
    "#Try these leaves\n",
    "leaf_list = [1,2,3,5,7,10]\n",
    "\n",
    "predictors = list(model_data.columns[2:64])+list(model_data.columns[66:81])\n",
    "\n",
    "conf_matrix = {}\n",
    "coef = {}\n",
    "precision = []; recall = []; F1 = []; accuracy = []; saved_cost = []\n",
    "for leaf in leaf_list:\n",
    "    alg = RandomForestClassifier(min_samples_leaf=leaf)\n",
    "\n",
    "    #Split the data into 10 subsets\n",
    "    kf = KFold(shuffled_data.shape[0], n_folds = 10, random_state = 1)\n",
    "    predictions = []\n",
    "\n",
    "    #Train and predict\n",
    "    for train, test in kf:\n",
    "        X_train = (shuffled_data[predictors].iloc[train,:])\n",
    "        scaler = StandardScaler().fit(X_train)\n",
    "        y_train = shuffled_data['Cancelled'].iloc[train]\n",
    "        alg.fit(scaler.transform(X_train), y_train)\n",
    "        X_test = (shuffled_data[predictors].iloc[test,:])\n",
    "        y_test = shuffled_data['Cancelled'].iloc[test]\n",
    "        test_predictions = alg.predict(scaler.transform(X_test))\n",
    "        predictions.append(test_predictions)\n",
    "        gc.collect()\n",
    "\n",
    "    predictions = np.concatenate(predictions,axis = 0)\n",
    "    conf_matrix[leaf] = confusion_matrix(shuffled_data['Cancelled'].values, predictions)\n",
    "    print('Min leaf size = {0}\\nConfusion matrix'.format(leaf))\n",
    "    print(pd.DataFrame(conf_matrix[leaf]))\n",
    "    \n",
    "    scores = precision_recall_fscore_support(shuffled_data['Cancelled'].values, predictions)\n",
    "    precision.append(scores[0][1]); recall.append(scores[1][1]); F1.append(scores[2][1])\n",
    "    accuracy.append(accuracy_score(shuffled_data['Cancelled'].values, predictions))\n",
    "    saved_cost.append(cost_saved(conf_matrix[leaf])/len(predictions))\n",
    "    \n",
    "    print(('precision = {0:.2f}, recall = {1:.2f}, F1 = {2:.2f}, ' \n",
    "       'accuracy = {3:.2f}, saved cost per flight = ${4:.2f}').format(precision[-1],recall[-1],F1[-1],\n",
    "                                                                   accuracy[-1],saved_cost[-1]))"
   ]
  },
  {
   "cell_type": "code",
   "execution_count": 16,
   "metadata": {
    "collapsed": false
   },
   "outputs": [
    {
     "data": {
      "image/png": "[encoded data removed]",
      "text/plain": [
       "<matplotlib.figure.Figure at 0x1c126588>"
      ]
     },
     "metadata": {},
     "output_type": "display_data"
    }
   ],
   "source": [
    "fig = plt.figure(figsize=(13,3))\n",
    "ax1 = fig.add_subplot(131)\n",
    "ax1.plot(leaf_list,precision,'-or')\n",
    "ax1.set_xlabel('min leaf size')\n",
    "ax1.set_xscale('log')\n",
    "ax1.set_ylabel('Precision', color='r')\n",
    "ax1.set_title('Precision and recall for\\n random forest classifier')\n",
    "for tl in ax1.get_yticklabels():\n",
    "    tl.set_color('r')\n",
    "\n",
    "ax2 = ax1.twinx()\n",
    "ax2.plot(leaf_list, recall, '-ob')\n",
    "ax2.set_ylabel('Recall', color='b')\n",
    "for tl in ax2.get_yticklabels():\n",
    "    tl.set_color('b')\n",
    "    \n",
    "ax3 = fig.add_subplot(132)\n",
    "ax3.plot(leaf_list,F1,'-or')\n",
    "ax3.set_xlabel('min leaf size')\n",
    "ax3.set_xscale('log')\n",
    "ax3.set_ylabel('F1', color='r')\n",
    "ax3.set_title('F1 and accuracy for\\n random forest classifier')\n",
    "for tl in ax3.get_yticklabels():\n",
    "    tl.set_color('r')\n",
    "\n",
    "ax4 = ax3.twinx()\n",
    "ax4.plot(leaf_list, accuracy, '-ob')\n",
    "ax4.set_ylabel('Accuracy', color='b')\n",
    "ax4.yaxis.set_major_formatter(y_formatter)\n",
    "for tl in ax4.get_yticklabels():\n",
    "    tl.set_color('b')\n",
    "    \n",
    "ax5 = fig.add_subplot(133)\n",
    "ax5.plot(leaf_list,saved_cost,'-or')\n",
    "ax5.set_xlabel('min leaf size')\n",
    "ax5.set_xscale('log')\n",
    "ax5.set_ylabel('Cost ($)',color='r')\n",
    "ax5.set_title('Cost saved per flight\\n for random forest classifier')\n",
    "for tl in ax5.get_yticklabels():\n",
    "    tl.set_color('r')\n",
    "\n",
    "num_pos = [(conf_matrix[leaf][0][1]+conf_matrix[leaf][1][1])*100/sum(sum(conf_matrix[leaf]))\n",
    "           for leaf in leaf_list]\n",
    "ax6 = ax5.twinx()\n",
    "ax6.plot(leaf_list, num_pos, '-ob')\n",
    "ax6.set_ylabel('% guessed positive', color='b')\n",
    "ax6.yaxis.set_major_formatter(y_formatter)\n",
    "for tl in ax6.get_yticklabels():\n",
    "    tl.set_color('b')\n",
    "\n",
    "fig.tight_layout()\n",
    "fig.savefig('../reports/figures/classification/rf_reg_trees', bbox_inches='tight')"
   ]
  },
  {
   "cell_type": "markdown",
   "metadata": {},
   "source": [
    "Increasing the minimum number of samples on a leaf decreases the number of positive predictions, increasing precision (up to a point) but decreasing recall. Therfore, as a positive is a relatively rare occurence, having no min leaf size gives the best cost.\n",
    "\n",
    "Now let's look at the number of trees, while noting how long each calculation takes."
   ]
  },
  {
   "cell_type": "code",
   "execution_count": 18,
   "metadata": {
    "collapsed": false
   },
   "outputs": [
    {
     "name": "stdout",
     "output_type": "stream",
     "text": [
      "Wall time: 6.25 s\n",
      "Wall time: 6.32 s\n",
      "Wall time: 6.3 s\n",
      "Wall time: 6.44 s\n",
      "Wall time: 6.29 s\n",
      "Wall time: 6.38 s\n",
      "Wall time: 6.38 s\n",
      "Wall time: 6.28 s\n",
      "Wall time: 6.48 s\n",
      "Wall time: 6.4 s\n",
      "Num trees = 1\n",
      "Confusion matrix\n",
      "        0     1\n",
      "0  565487  7379\n",
      "1    7254  1788\n",
      "precision = 0.20, recall = 0.20, F1 = 0.20, accuracy = 0.97, saved cost per flight = $14.12\n",
      "Wall time: 10.5 s\n",
      "Wall time: 10.1 s\n",
      "Wall time: 10.3 s\n",
      "Wall time: 9.84 s\n",
      "Wall time: 10.2 s\n",
      "Wall time: 10.5 s\n",
      "Wall time: 10.1 s\n",
      "Wall time: 10.3 s\n",
      "Wall time: 9.98 s\n",
      "Wall time: 10.5 s\n",
      "Num trees = 3\n",
      "Confusion matrix\n",
      "        0     1\n",
      "0  570394  2472\n",
      "1    7457  1585\n",
      "precision = 0.39, recall = 0.18, F1 = 0.24, accuracy = 0.98, saved cost per flight = $18.29\n",
      "Wall time: 14.2 s\n",
      "Wall time: 13.7 s\n",
      "Wall time: 13.7 s\n",
      "Wall time: 14.5 s\n",
      "Wall time: 13.9 s\n",
      "Wall time: 13.7 s\n",
      "Wall time: 14.1 s\n",
      "Wall time: 14.3 s\n",
      "Wall time: 14.2 s\n",
      "Wall time: 14 s\n",
      "Num trees = 5\n",
      "Confusion matrix\n",
      "        0     1\n",
      "0  571291  1575\n",
      "1    7570  1472\n",
      "precision = 0.48, recall = 0.16, F1 = 0.24, accuracy = 0.98, saved cost per flight = $18.00\n",
      "Wall time: 24.1 s\n",
      "Wall time: 24.4 s\n",
      "Wall time: 23.8 s\n",
      "Wall time: 23 s\n",
      "Wall time: 23.9 s\n",
      "Wall time: 24.4 s\n",
      "Wall time: 23.4 s\n",
      "Wall time: 24.1 s\n",
      "Wall time: 23.6 s\n",
      "Wall time: 23.2 s\n",
      "Num trees = 10\n",
      "Confusion matrix\n",
      "        0     1\n",
      "0  572106   760\n",
      "1    7794  1248\n",
      "precision = 0.62, recall = 0.14, F1 = 0.23, accuracy = 0.99, saved cost per flight = $16.08\n",
      "Wall time: 1min 4s\n",
      "Wall time: 1min 3s\n",
      "Wall time: 1min 2s\n",
      "Wall time: 1min 9s\n",
      "Wall time: 1min 4s\n",
      "Wall time: 1min 6s\n",
      "Wall time: 1min 3s\n",
      "Wall time: 1min 5s\n",
      "Wall time: 1min 3s\n",
      "Wall time: 1min 7s\n",
      "Num trees = 30\n",
      "Confusion matrix\n",
      "        0     1\n",
      "0  572212   654\n",
      "1    7762  1280\n",
      "precision = 0.66, recall = 0.14, F1 = 0.23, accuracy = 0.99, saved cost per flight = $16.67\n",
      "Wall time: 1min 44s\n",
      "Wall time: 1min 41s\n",
      "Wall time: 1min 41s\n",
      "Wall time: 1min 42s\n",
      "Wall time: 1min 44s\n",
      "Wall time: 1min 42s\n",
      "Wall time: 1min 45s\n",
      "Wall time: 1min 42s\n",
      "Wall time: 1min 46s\n",
      "Wall time: 1min 43s\n",
      "Num trees = 50\n",
      "Confusion matrix\n",
      "        0     1\n",
      "0  572237   629\n",
      "1    7708  1334\n",
      "precision = 0.68, recall = 0.15, F1 = 0.24, accuracy = 0.99, saved cost per flight = $17.45\n"
     ]
    }
   ],
   "source": [
    "#Try these trees\n",
    "tree_list = [1,3,5,10,30,50]\n",
    "\n",
    "predictors = list(model_data.columns[2:64])+list(model_data.columns[66:81])\n",
    "\n",
    "conf_matrix = {}\n",
    "coef = {}\n",
    "precision = []; recall = []; F1 = []; accuracy = []; saved_cost = []\n",
    "for trees in tree_list:\n",
    "    alg = RandomForestClassifier(n_estimators=trees)\n",
    "\n",
    "    #Split the data into 10 subsets\n",
    "    kf = KFold(shuffled_data.shape[0], n_folds = 10, random_state = 1)\n",
    "    predictions = []\n",
    "\n",
    "    #Train and predict\n",
    "    for train, test in kf:\n",
    "        X_train = (shuffled_data[predictors].iloc[train,:])\n",
    "        scaler = StandardScaler().fit(X_train)\n",
    "        y_train = shuffled_data['Cancelled'].iloc[train]\n",
    "        %time alg.fit(scaler.transform(X_train), y_train)\n",
    "        X_test = (shuffled_data[predictors].iloc[test,:])\n",
    "        y_test = shuffled_data['Cancelled'].iloc[test]\n",
    "        test_predictions = alg.predict(scaler.transform(X_test))\n",
    "        predictions.append(test_predictions)\n",
    "        gc.collect()\n",
    "\n",
    "    predictions = np.concatenate(predictions,axis = 0)\n",
    "    conf_matrix[trees] = confusion_matrix(shuffled_data['Cancelled'].values, predictions)\n",
    "    print('Num trees = {0}\\nConfusion matrix'.format(trees))\n",
    "    print(pd.DataFrame(conf_matrix[trees]))\n",
    "    \n",
    "    scores = precision_recall_fscore_support(shuffled_data['Cancelled'].values, predictions)\n",
    "    precision.append(scores[0][1]); recall.append(scores[1][1]); F1.append(scores[2][1])\n",
    "    accuracy.append(accuracy_score(shuffled_data['Cancelled'].values, predictions))\n",
    "    saved_cost.append(cost_saved(conf_matrix[trees])/len(predictions))\n",
    "    \n",
    "    print(('precision = {0:.2f}, recall = {1:.2f}, F1 = {2:.2f}, ' \n",
    "       'accuracy = {3:.2f}, saved cost per flight = ${4:.2f}').format(precision[-1],recall[-1],F1[-1],\n",
    "                                                                   accuracy[-1],saved_cost[-1]))"
   ]
  },
  {
   "cell_type": "code",
   "execution_count": 19,
   "metadata": {
    "collapsed": false
   },
   "outputs": [
    {
     "data": {
      "image/png": "[encoded data removed]",
      "text/plain": [
       "<matplotlib.figure.Figure at 0xe649dd8>"
      ]
     },
     "metadata": {},
     "output_type": "display_data"
    }
   ],
   "source": [
    "fig = plt.figure(figsize=(13,3))\n",
    "ax1 = fig.add_subplot(131)\n",
    "ax1.plot(tree_list,precision,'-or')\n",
    "ax1.set_xlabel('num trees')\n",
    "ax1.set_xscale('log')\n",
    "ax1.set_ylabel('Precision', color='r')\n",
    "ax1.set_title('Precision and recall for\\n random forest classifier')\n",
    "for tl in ax1.get_yticklabels():\n",
    "    tl.set_color('r')\n",
    "\n",
    "ax2 = ax1.twinx()\n",
    "ax2.plot(tree_list, recall, '-ob')\n",
    "ax2.set_ylabel('Recall', color='b')\n",
    "for tl in ax2.get_yticklabels():\n",
    "    tl.set_color('b')\n",
    "    \n",
    "ax3 = fig.add_subplot(132)\n",
    "ax3.plot(tree_list,F1,'-or')\n",
    "ax3.set_xlabel('num trees')\n",
    "ax3.set_xscale('log')\n",
    "ax3.set_ylabel('F1', color='r')\n",
    "ax3.set_title('F1 and accuracy for\\n random forest classifier')\n",
    "for tl in ax3.get_yticklabels():\n",
    "    tl.set_color('r')\n",
    "\n",
    "ax4 = ax3.twinx()\n",
    "ax4.plot(tree_list, accuracy, '-ob')\n",
    "ax4.set_ylabel('Accuracy', color='b')\n",
    "ax4.yaxis.set_major_formatter(y_formatter)\n",
    "for tl in ax4.get_yticklabels():\n",
    "    tl.set_color('b')\n",
    "    \n",
    "ax5 = fig.add_subplot(133)\n",
    "ax5.plot(tree_list,saved_cost,'-or')\n",
    "ax5.set_xlabel('num trees')\n",
    "ax5.set_xscale('log')\n",
    "ax5.set_ylabel('Cost ($)',color='r')\n",
    "ax5.set_title('Cost saved per flight\\n for random forest classifier')\n",
    "for tl in ax5.get_yticklabels():\n",
    "    tl.set_color('r')\n",
    "\n",
    "num_pos = [(conf_matrix[trees][0][1]+conf_matrix[trees][1][1])*100/sum(sum(conf_matrix[trees]))\n",
    "           for trees in tree_list]\n",
    "ax6 = ax5.twinx()\n",
    "ax6.plot(tree_list, num_pos, '-ob')\n",
    "ax6.set_ylabel('% guessed positive', color='b')\n",
    "ax6.yaxis.set_major_formatter(y_formatter)\n",
    "for tl in ax6.get_yticklabels():\n",
    "    tl.set_color('b')\n",
    "\n",
    "fig.tight_layout()\n",
    "fig.savefig('../reports/figures/classification/rf_reg_trees', bbox_inches='tight')"
   ]
  },
  {
   "cell_type": "markdown",
   "metadata": {},
   "source": [
    "With fewer trees we are overfitting the data, so we generate more positives meaning our precision is low but our recall is high.  \n",
    "Up to 10 trees the number of positives predicted decreases, so the precision increases sharply and our recall drops as we decrease the variance in the model. This leads to a decrease the cost saved per flight.  \n",
    "However beyond 10 trees the number of positive predictions is more or less constant, and so by adding more trees we improve the performance of the model and hence the cost.\n",
    "\n",
    "So in fact fewer (3) trees performs better."
   ]
  },
  {
   "cell_type": "code",
   "execution_count": 49,
   "metadata": {
    "collapsed": false
   },
   "outputs": [
    {
     "name": "stdout",
     "output_type": "stream",
     "text": [
      "Confusion matrix\n",
      "        0     1\n",
      "0  570671  2440\n",
      "1    7305  1492\n",
      "precision = 0.38, recall = 0.17, F1 = 0.23, accuracy = 0.9833, saved cost per flight = $17.05\n"
     ]
    }
   ],
   "source": [
    "alg = RandomForestClassifier(n_estimators=3)\n",
    "#Features from original data\n",
    "predictors = list(model_data.columns[2:64])+list(model_data.columns[66:81])\n",
    "\n",
    "#Split the data into 10 subsets\n",
    "kf = KFold(cv_data.shape[0], n_folds = 10, random_state = 1)\n",
    "predictions = []\n",
    "\n",
    "#Train and predict\n",
    "for train, test in kf:\n",
    "    X_train = (cv_data[predictors].iloc[train,:])\n",
    "    scaler = StandardScaler().fit(X_train)\n",
    "    y_train = cv_data['Cancelled'].iloc[train]\n",
    "    alg.fit(scaler.transform(X_train), y_train)\n",
    "    X_test = (cv_data[predictors].iloc[test,:])\n",
    "    y_test = cv_data['Cancelled'].iloc[test]\n",
    "    test_predictions = alg.predict(scaler.transform(X_test))\n",
    "    predictions.append(test_predictions)\n",
    "    gc.collect()\n",
    "\n",
    "predictions = np.concatenate(predictions,axis = 0)\n",
    "conf_matrix = confusion_matrix(cv_data['Cancelled'].values, predictions)\n",
    "print('Confusion matrix')\n",
    "print(pd.DataFrame(conf_matrix))\n",
    "scores = precision_recall_fscore_support(cv_data['Cancelled'].values, predictions)\n",
    "print(('precision = {0:.2f}, recall = {1:.2f}, F1 = {2:.2f}, ' \n",
    "       'accuracy = {3:.4f}, saved cost per flight = ${4:.2f}').format(scores[0][1],scores[1][1],scores[2][1],\n",
    "                                                        accuracy_score(cv_data['Cancelled'].values, predictions),\n",
    "                                                        cost_saved(conf_matrix)/len(predictions)))"
   ]
  },
  {
   "cell_type": "markdown",
   "metadata": {
    "collapsed": true
   },
   "source": [
    "Now let's apply this model with the new sets of features, starting with the urban data."
   ]
  },
  {
   "cell_type": "code",
   "execution_count": 53,
   "metadata": {
    "collapsed": false
   },
   "outputs": [
    {
     "name": "stdout",
     "output_type": "stream",
     "text": [
      "Confusion matrix\n",
      "        0     1\n",
      "0  570721  2390\n",
      "1    7284  1513\n",
      "precision = 0.388, recall = 0.172, F1 = 0.238, accuracy = 0.983, saved cost per flight = $17.41\n"
     ]
    }
   ],
   "source": [
    "alg = RandomForestClassifier(n_estimators=3)\n",
    "#Features from original data\n",
    "predictors = list(model_data.columns[2:81])\n",
    "\n",
    "#Split the data into 10 subsets\n",
    "kf = KFold(cv_data.shape[0], n_folds = 10, random_state = 1)\n",
    "predictions = []\n",
    "\n",
    "#Train and predict\n",
    "for train, test in kf:\n",
    "    X_train = (cv_data[predictors].iloc[train,:])\n",
    "    scaler = StandardScaler().fit(X_train)\n",
    "    y_train = cv_data['Cancelled'].iloc[train]\n",
    "    alg.fit(scaler.transform(X_train), y_train)\n",
    "    X_test = (cv_data[predictors].iloc[test,:])\n",
    "    y_test = cv_data['Cancelled'].iloc[test]\n",
    "    test_predictions = alg.predict(scaler.transform(X_test))\n",
    "    predictions.append(test_predictions)\n",
    "    gc.collect()\n",
    "\n",
    "predictions = np.concatenate(predictions,axis = 0)\n",
    "conf_matrix = confusion_matrix(cv_data['Cancelled'].values, predictions)\n",
    "print('Confusion matrix')\n",
    "print(pd.DataFrame(conf_matrix))\n",
    "scores = precision_recall_fscore_support(cv_data['Cancelled'].values, predictions)\n",
    "print(('precision = {0:.3f}, recall = {1:.3f}, F1 = {2:.3f}, ' \n",
    "       'accuracy = {3:.3f}, saved cost per flight = ${4:.2f}').format(scores[0][1],scores[1][1],scores[2][1],\n",
    "                                                        accuracy_score(cv_data['Cancelled'].values, predictions),\n",
    "                                                        cost_saved(conf_matrix)/len(predictions)))"
   ]
  },
  {
   "cell_type": "markdown",
   "metadata": {},
   "source": [
    "And now the weather data"
   ]
  },
  {
   "cell_type": "code",
   "execution_count": 54,
   "metadata": {
    "collapsed": false
   },
   "outputs": [
    {
     "name": "stdout",
     "output_type": "stream",
     "text": [
      "Confusion matrix\n",
      "        0     1\n",
      "0  570478  2633\n",
      "1    7212  1585\n",
      "precision = 0.376, recall = 0.180, F1 = 0.244, accuracy = 0.983, saved cost per flight = $18.06\n"
     ]
    }
   ],
   "source": [
    "alg = RandomForestClassifier(n_estimators=3)\n",
    "#Features from original data\n",
    "predictors = list(model_data.columns[2:94])\n",
    "\n",
    "#Split the data into 10 subsets\n",
    "kf = KFold(cv_data.shape[0], n_folds = 10, random_state = 1)\n",
    "predictions = []\n",
    "\n",
    "#Train and predict\n",
    "for train, test in kf:\n",
    "    X_train = (cv_data[predictors].iloc[train,:])\n",
    "    scaler = StandardScaler().fit(X_train)\n",
    "    y_train = cv_data['Cancelled'].iloc[train]\n",
    "    alg.fit(scaler.transform(X_train), y_train)\n",
    "    X_test = (cv_data[predictors].iloc[test,:])\n",
    "    y_test = cv_data['Cancelled'].iloc[test]\n",
    "    test_predictions = alg.predict(scaler.transform(X_test))\n",
    "    predictions.append(test_predictions)\n",
    "    gc.collect()\n",
    "\n",
    "predictions = np.concatenate(predictions,axis = 0)\n",
    "conf_matrix = confusion_matrix(cv_data['Cancelled'].values, predictions)\n",
    "print('Confusion matrix')\n",
    "print(pd.DataFrame(conf_matrix))\n",
    "scores = precision_recall_fscore_support(cv_data['Cancelled'].values, predictions)\n",
    "print(('precision = {0:.3f}, recall = {1:.3f}, F1 = {2:.3f}, ' \n",
    "       'accuracy = {3:.3f}, saved cost per flight = ${4:.2f}').format(scores[0][1],scores[1][1],scores[2][1],\n",
    "                                                        accuracy_score(cv_data['Cancelled'].values, predictions),\n",
    "                                                        cost_saved(conf_matrix)/len(predictions)))"
   ]
  },
  {
   "cell_type": "markdown",
   "metadata": {},
   "source": [
    "And the aircraft data"
   ]
  },
  {
   "cell_type": "code",
   "execution_count": 55,
   "metadata": {
    "collapsed": false
   },
   "outputs": [
    {
     "name": "stdout",
     "output_type": "stream",
     "text": [
      "Confusion matrix\n",
      "        0     1\n",
      "0  570785  2326\n",
      "1    7278  1519\n",
      "precision = 0.395, recall = 0.173, F1 = 0.240, accuracy = 0.983, saved cost per flight = $17.59\n"
     ]
    }
   ],
   "source": [
    "alg = RandomForestClassifier(n_estimators=3)\n",
    "#Features from original data\n",
    "predictors = list(model_data.columns[2:])\n",
    "\n",
    "#Split the data into 10 subsets\n",
    "kf = KFold(cv_data.shape[0], n_folds = 10, random_state = 1)\n",
    "predictions = []\n",
    "\n",
    "#Train and predict\n",
    "for train, test in kf:\n",
    "    X_train = (cv_data[predictors].iloc[train,:])\n",
    "    scaler = StandardScaler().fit(X_train)\n",
    "    y_train = cv_data['Cancelled'].iloc[train]\n",
    "    alg.fit(scaler.transform(X_train), y_train)\n",
    "    X_test = (cv_data[predictors].iloc[test,:])\n",
    "    y_test = cv_data['Cancelled'].iloc[test]\n",
    "    test_predictions = alg.predict(scaler.transform(X_test))\n",
    "    predictions.append(test_predictions)\n",
    "    gc.collect()\n",
    "\n",
    "predictions = np.concatenate(predictions,axis = 0)\n",
    "conf_matrix = confusion_matrix(cv_data['Cancelled'].values, predictions)\n",
    "print('Confusion matrix')\n",
    "print(pd.DataFrame(conf_matrix))\n",
    "scores = precision_recall_fscore_support(cv_data['Cancelled'].values, predictions)\n",
    "print(('precision = {0:.3f}, recall = {1:.3f}, F1 = {2:.3f}, ' \n",
    "       'accuracy = {3:.3f}, saved cost per flight = ${4:.2f}').format(scores[0][1],scores[1][1],scores[2][1],\n",
    "                                                        accuracy_score(cv_data['Cancelled'].values, predictions),\n",
    "                                                        cost_saved(conf_matrix)/len(predictions)))"
   ]
  },
  {
   "cell_type": "code",
   "execution_count": 41,
   "metadata": {
    "collapsed": false
   },
   "outputs": [
    {
     "name": "stdout",
     "output_type": "stream",
     "text": [
      "Wall time: 11 s\n",
      "Wall time: 10.8 s\n",
      "Wall time: 11 s\n",
      "Wall time: 10.7 s\n",
      "Wall time: 10.7 s\n",
      "Wall time: 10.2 s\n",
      "Wall time: 10.5 s\n",
      "Wall time: 10.3 s\n",
      "Wall time: 10.3 s\n",
      "Wall time: 10.7 s\n",
      "Num trees = 1\n",
      "Confusion matrix\n",
      "        0     1\n",
      "0  565223  7643\n",
      "1    7068  1974\n",
      "precision = 0.21, recall = 0.22, F1 = 0.21, accuracy = 0.97, saved cost per flight = $16.30\n",
      "Wall time: 15 s\n",
      "Wall time: 15.4 s\n",
      "Wall time: 15.5 s\n",
      "Wall time: 15.4 s\n",
      "Wall time: 15.6 s\n",
      "Wall time: 15.2 s\n",
      "Wall time: 15.2 s\n",
      "Wall time: 15 s\n",
      "Wall time: 15.1 s\n",
      "Wall time: 15.9 s\n",
      "Num trees = 3\n",
      "Confusion matrix\n",
      "        0     1\n",
      "0  570491  2375\n",
      "1    7383  1659\n",
      "precision = 0.41, recall = 0.18, F1 = 0.25, accuracy = 0.98, saved cost per flight = $19.44\n",
      "Wall time: 21.9 s\n",
      "Wall time: 21.9 s\n",
      "Wall time: 21.7 s\n",
      "Wall time: 22.1 s\n",
      "Wall time: 22.1 s\n",
      "Wall time: 22.4 s\n",
      "Wall time: 23.7 s\n",
      "Wall time: 22.5 s\n",
      "Wall time: 24.7 s\n",
      "Wall time: 27.2 s\n",
      "Num trees = 5\n",
      "Confusion matrix\n",
      "        0     1\n",
      "0  571256  1610\n",
      "1    7451  1591\n",
      "precision = 0.50, recall = 0.18, F1 = 0.26, accuracy = 0.98, saved cost per flight = $19.59\n",
      "Wall time: 40 s\n",
      "Wall time: 34.4 s\n",
      "Wall time: 35.5 s\n",
      "Wall time: 34.9 s\n",
      "Wall time: 36.6 s\n",
      "Wall time: 35.2 s\n",
      "Wall time: 35.4 s\n",
      "Wall time: 35.7 s\n",
      "Wall time: 35.7 s\n",
      "Wall time: 44.3 s\n",
      "Num trees = 10\n",
      "Confusion matrix\n",
      "        0     1\n",
      "0  572029   837\n",
      "1    7730  1312\n",
      "precision = 0.61, recall = 0.15, F1 = 0.23, accuracy = 0.99, saved cost per flight = $16.85\n",
      "Wall time: 1min 45s\n",
      "Wall time: 1min 34s\n",
      "Wall time: 1min 24s\n",
      "Wall time: 1min 25s\n",
      "Wall time: 1min 24s\n",
      "Wall time: 1min 32s\n",
      "Wall time: 1min 34s\n",
      "Wall time: 1min 36s\n",
      "Wall time: 1min 34s\n",
      "Wall time: 1min 35s\n",
      "Num trees = 30\n",
      "Confusion matrix\n",
      "        0     1\n",
      "0  572088   778\n",
      "1    7631  1411\n",
      "precision = 0.64, recall = 0.16, F1 = 0.25, accuracy = 0.99, saved cost per flight = $18.30\n",
      "Wall time: 2min 24s\n",
      "Wall time: 2min 24s\n",
      "Wall time: 2min 25s\n",
      "Wall time: 2min 28s\n",
      "Wall time: 2min 28s\n",
      "Wall time: 2min 30s\n",
      "Wall time: 2min 21s\n",
      "Wall time: 2min 23s\n",
      "Wall time: 2min 24s\n",
      "Wall time: 2min 21s\n",
      "Num trees = 50\n",
      "Confusion matrix\n",
      "        0     1\n",
      "0  572104   762\n",
      "1    7615  1427\n",
      "precision = 0.65, recall = 0.16, F1 = 0.25, accuracy = 0.99, saved cost per flight = $18.54\n"
     ]
    }
   ],
   "source": [
    "#Try these trees\n",
    "tree_list = [1,3,5,10,30,50]\n",
    "\n",
    "predictors = list(model_data.columns[2:])\n",
    "\n",
    "conf_matrix = {}\n",
    "coef = {}\n",
    "precision = []; recall = []; F1 = []; accuracy = []; saved_cost = []\n",
    "for trees in tree_list:\n",
    "    alg = RandomForestClassifier(n_estimators=trees)\n",
    "\n",
    "    #Split the data into 10 subsets\n",
    "    kf = KFold(shuffled_data.shape[0], n_folds = 10, random_state = 1)\n",
    "    predictions = []\n",
    "\n",
    "    #Train and predict\n",
    "    for train, test in kf:\n",
    "        X_train = (shuffled_data[predictors].iloc[train,:])\n",
    "        scaler = StandardScaler().fit(X_train)\n",
    "        y_train = shuffled_data['Cancelled'].iloc[train]\n",
    "        %time alg.fit(scaler.transform(X_train), y_train)\n",
    "        X_test = (shuffled_data[predictors].iloc[test,:])\n",
    "        y_test = shuffled_data['Cancelled'].iloc[test]\n",
    "        test_predictions = alg.predict(scaler.transform(X_test))\n",
    "        predictions.append(test_predictions)\n",
    "        gc.collect()\n",
    "\n",
    "    predictions = np.concatenate(predictions,axis = 0)\n",
    "    conf_matrix[trees] = confusion_matrix(shuffled_data['Cancelled'].values, predictions)\n",
    "    print('Num trees = {0}\\nConfusion matrix'.format(trees))\n",
    "    print(pd.DataFrame(conf_matrix[trees]))\n",
    "    \n",
    "    scores = precision_recall_fscore_support(shuffled_data['Cancelled'].values, predictions)\n",
    "    precision.append(scores[0][1]); recall.append(scores[1][1]); F1.append(scores[2][1])\n",
    "    accuracy.append(accuracy_score(shuffled_data['Cancelled'].values, predictions))\n",
    "    saved_cost.append(cost_saved(conf_matrix[trees])/len(predictions))\n",
    "    \n",
    "    print(('precision = {0:.2f}, recall = {1:.2f}, F1 = {2:.2f}, ' \n",
    "       'accuracy = {3:.2f}, saved cost per flight = ${4:.2f}').format(precision[-1],recall[-1],F1[-1],\n",
    "                                                                   accuracy[-1],saved_cost[-1]))"
   ]
  },
  {
   "cell_type": "code",
   "execution_count": 42,
   "metadata": {
    "collapsed": false
   },
   "outputs": [
    {
     "data": {
      "image/png": "[encoded data removed]",
      "text/plain": [
       "<matplotlib.figure.Figure at 0x1c84c400>"
      ]
     },
     "metadata": {},
     "output_type": "display_data"
    }
   ],
   "source": [
    "fig = plt.figure(figsize=(13,3))\n",
    "ax1 = fig.add_subplot(131)\n",
    "ax1.plot(tree_list,precision,'-or')\n",
    "ax1.set_xlabel('num trees')\n",
    "ax1.set_xscale('log')\n",
    "ax1.set_ylabel('Precision', color='r')\n",
    "ax1.set_title('Precision and recall for\\n random forest classifier')\n",
    "for tl in ax1.get_yticklabels():\n",
    "    tl.set_color('r')\n",
    "\n",
    "ax2 = ax1.twinx()\n",
    "ax2.plot(tree_list, recall, '-ob')\n",
    "ax2.set_ylabel('Recall', color='b')\n",
    "for tl in ax2.get_yticklabels():\n",
    "    tl.set_color('b')\n",
    "    \n",
    "ax3 = fig.add_subplot(132)\n",
    "ax3.plot(tree_list,F1,'-or')\n",
    "ax3.set_xlabel('num trees')\n",
    "ax3.set_xscale('log')\n",
    "ax3.set_ylabel('F1', color='r')\n",
    "ax3.set_title('F1 and accuracy for\\n random forest classifier')\n",
    "for tl in ax3.get_yticklabels():\n",
    "    tl.set_color('r')\n",
    "\n",
    "ax4 = ax3.twinx()\n",
    "ax4.plot(tree_list, accuracy, '-ob')\n",
    "ax4.set_ylabel('Accuracy', color='b')\n",
    "ax4.yaxis.set_major_formatter(y_formatter)\n",
    "for tl in ax4.get_yticklabels():\n",
    "    tl.set_color('b')\n",
    "    \n",
    "ax5 = fig.add_subplot(133)\n",
    "ax5.plot(tree_list,saved_cost,'-or')\n",
    "ax5.set_xlabel('num trees')\n",
    "ax5.set_xscale('log')\n",
    "ax5.set_ylabel('Cost ($)',color='r')\n",
    "ax5.set_title('Cost saved per flight\\n for random forest classifier')\n",
    "for tl in ax5.get_yticklabels():\n",
    "    tl.set_color('r')\n",
    "\n",
    "num_pos = [(conf_matrix[trees][0][1]+conf_matrix[trees][1][1])*100/sum(sum(conf_matrix[trees]))\n",
    "           for trees in tree_list]\n",
    "ax6 = ax5.twinx()\n",
    "ax6.plot(tree_list, num_pos, '-ob')\n",
    "ax6.set_ylabel('% guessed positive', color='b')\n",
    "ax6.yaxis.set_major_formatter(y_formatter)\n",
    "for tl in ax6.get_yticklabels():\n",
    "    tl.set_color('b')\n",
    "\n",
    "fig.tight_layout()\n",
    "fig.savefig('../reports/figures/classification/rf2_reg_trees', bbox_inches='tight')"
   ]
  },
  {
   "cell_type": "code",
   "execution_count": 45,
   "metadata": {
    "collapsed": false
   },
   "outputs": [
    {
     "name": "stdout",
     "output_type": "stream",
     "text": [
      "Min leaf size = 1\n",
      "Confusion matrix\n",
      "        0     1\n",
      "0  571266  1600\n",
      "1    7446  1596\n",
      "precision = 0.50, recall = 0.18, F1 = 0.26, accuracy = 0.98, saved cost per flight = $19.67\n",
      "Min leaf size = 2\n",
      "Confusion matrix\n",
      "        0     1\n",
      "0  572271   595\n",
      "1    7816  1226\n",
      "precision = 0.67, recall = 0.14, F1 = 0.23, accuracy = 0.99, saved cost per flight = $16.01\n",
      "Min leaf size = 3\n",
      "Confusion matrix\n",
      "        0     1\n",
      "0  572476   390\n",
      "1    7964  1078\n",
      "precision = 0.73, recall = 0.12, F1 = 0.21, accuracy = 0.99, saved cost per flight = $14.27\n",
      "Min leaf size = 5\n",
      "Confusion matrix\n",
      "        0    1\n",
      "0  572587  279\n",
      "1    8140  902\n",
      "precision = 0.76, recall = 0.10, F1 = 0.18, accuracy = 0.99, saved cost per flight = $12.01\n",
      "Min leaf size = 7\n",
      "Confusion matrix\n",
      "        0    1\n",
      "0  572650  216\n",
      "1    8237  805\n",
      "precision = 0.79, recall = 0.09, F1 = 0.16, accuracy = 0.99, saved cost per flight = $10.76\n",
      "Min leaf size = 10\n",
      "Confusion matrix\n",
      "        0    1\n",
      "0  572681  185\n",
      "1    8299  743\n",
      "precision = 0.80, recall = 0.08, F1 = 0.15, accuracy = 0.99, saved cost per flight = $9.95\n"
     ]
    }
   ],
   "source": [
    "#Try these leaves\n",
    "leaf_list = [1,2,3,5,7,10]\n",
    "\n",
    "predictors = list(model_data.columns[2:])\n",
    "\n",
    "conf_matrix = {}\n",
    "coef = {}\n",
    "precision = []; recall = []; F1 = []; accuracy = []; saved_cost = []\n",
    "for leaf in leaf_list:\n",
    "    alg = RandomForestClassifier(min_samples_leaf=leaf, n_estimators=5)\n",
    "\n",
    "    #Split the data into 10 subsets\n",
    "    kf = KFold(shuffled_data.shape[0], n_folds = 10, random_state = 1)\n",
    "    predictions = []\n",
    "\n",
    "    #Train and predict\n",
    "    for train, test in kf:\n",
    "        X_train = (shuffled_data[predictors].iloc[train,:])\n",
    "        scaler = StandardScaler().fit(X_train)\n",
    "        y_train = shuffled_data['Cancelled'].iloc[train]\n",
    "        alg.fit(scaler.transform(X_train), y_train)\n",
    "        X_test = (shuffled_data[predictors].iloc[test,:])\n",
    "        y_test = shuffled_data['Cancelled'].iloc[test]\n",
    "        test_predictions = alg.predict(scaler.transform(X_test))\n",
    "        predictions.append(test_predictions)\n",
    "        gc.collect()\n",
    "\n",
    "    predictions = np.concatenate(predictions,axis = 0)\n",
    "    conf_matrix[leaf] = confusion_matrix(shuffled_data['Cancelled'].values, predictions)\n",
    "    print('Min leaf size = {0}\\nConfusion matrix'.format(leaf))\n",
    "    print(pd.DataFrame(conf_matrix[leaf]))\n",
    "    \n",
    "    scores = precision_recall_fscore_support(shuffled_data['Cancelled'].values, predictions)\n",
    "    precision.append(scores[0][1]); recall.append(scores[1][1]); F1.append(scores[2][1])\n",
    "    accuracy.append(accuracy_score(shuffled_data['Cancelled'].values, predictions))\n",
    "    saved_cost.append(cost_saved(conf_matrix[leaf])/len(predictions))\n",
    "    \n",
    "    print(('precision = {0:.2f}, recall = {1:.2f}, F1 = {2:.2f}, ' \n",
    "       'accuracy = {3:.2f}, saved cost per flight = ${4:.2f}').format(precision[-1],recall[-1],F1[-1],\n",
    "                                                                   accuracy[-1],saved_cost[-1]))"
   ]
  },
  {
   "cell_type": "code",
   "execution_count": 46,
   "metadata": {
    "collapsed": false
   },
   "outputs": [
    {
     "data": {
      "image/png": "[encoded data removed]",
      "text/plain": [
       "<matplotlib.figure.Figure at 0xefc0908>"
      ]
     },
     "metadata": {},
     "output_type": "display_data"
    }
   ],
   "source": [
    "fig = plt.figure(figsize=(13,3))\n",
    "ax1 = fig.add_subplot(131)\n",
    "ax1.plot(leaf_list,precision,'-or')\n",
    "ax1.set_xlabel('min leaf size')\n",
    "ax1.set_xscale('log')\n",
    "ax1.set_ylabel('Precision', color='r')\n",
    "ax1.set_title('Precision and recall for\\n random forest classifier')\n",
    "for tl in ax1.get_yticklabels():\n",
    "    tl.set_color('r')\n",
    "\n",
    "ax2 = ax1.twinx()\n",
    "ax2.plot(leaf_list, recall, '-ob')\n",
    "ax2.set_ylabel('Recall', color='b')\n",
    "for tl in ax2.get_yticklabels():\n",
    "    tl.set_color('b')\n",
    "    \n",
    "ax3 = fig.add_subplot(132)\n",
    "ax3.plot(leaf_list,F1,'-or')\n",
    "ax3.set_xlabel('min leaf size')\n",
    "ax3.set_xscale('log')\n",
    "ax3.set_ylabel('F1', color='r')\n",
    "ax3.set_title('F1 and accuracy for\\n random forest classifier')\n",
    "for tl in ax3.get_yticklabels():\n",
    "    tl.set_color('r')\n",
    "\n",
    "ax4 = ax3.twinx()\n",
    "ax4.plot(leaf_list, accuracy, '-ob')\n",
    "ax4.set_ylabel('Accuracy', color='b')\n",
    "ax4.yaxis.set_major_formatter(y_formatter)\n",
    "for tl in ax4.get_yticklabels():\n",
    "    tl.set_color('b')\n",
    "    \n",
    "ax5 = fig.add_subplot(133)\n",
    "ax5.plot(leaf_list,saved_cost,'-or')\n",
    "ax5.set_xlabel('min leaf size')\n",
    "ax5.set_xscale('log')\n",
    "ax5.set_ylabel('Cost ($)',color='r')\n",
    "ax5.set_title('Cost saved per flight\\n for random forest classifier')\n",
    "for tl in ax5.get_yticklabels():\n",
    "    tl.set_color('r')\n",
    "\n",
    "num_pos = [(conf_matrix[leaf][0][1]+conf_matrix[leaf][1][1])*100/sum(sum(conf_matrix[leaf]))\n",
    "           for leaf in leaf_list]\n",
    "ax6 = ax5.twinx()\n",
    "ax6.plot(leaf_list, num_pos, '-ob')\n",
    "ax6.set_ylabel('% guessed positive', color='b')\n",
    "ax6.yaxis.set_major_formatter(y_formatter)\n",
    "for tl in ax6.get_yticklabels():\n",
    "    tl.set_color('b')\n",
    "\n",
    "fig.tight_layout()\n",
    "fig.savefig('../reports/figures/classification/rf2_reg_leaves', bbox_inches='tight')"
   ]
  },
  {
   "cell_type": "markdown",
   "metadata": {},
   "source": [
    "So the optimum number of trees with all features added is now 5, with no (i.e. 1) minimum leaf size still performing best.\n",
    "\n",
    "Let's see how this performs for all features:"
   ]
  },
  {
   "cell_type": "code",
   "execution_count": 56,
   "metadata": {
    "collapsed": false
   },
   "outputs": [
    {
     "name": "stdout",
     "output_type": "stream",
     "text": [
      "Confusion matrix\n",
      "        0     1\n",
      "0  571610  1501\n",
      "1    7354  1443\n",
      "precision = 0.490, recall = 0.164, F1 = 0.246, accuracy = 0.985, saved cost per flight = $17.71\n"
     ]
    }
   ],
   "source": [
    "alg = RandomForestClassifier(n_estimators=5)\n",
    "#Features from original data\n",
    "predictors = list(model_data.columns[2:])\n",
    "\n",
    "#Split the data into 10 subsets\n",
    "kf = KFold(cv_data.shape[0], n_folds = 10, random_state = 1)\n",
    "predictions = []\n",
    "\n",
    "#Train and predict\n",
    "for train, test in kf:\n",
    "    X_train = (cv_data[predictors].iloc[train,:])\n",
    "    scaler = StandardScaler().fit(X_train)\n",
    "    y_train = cv_data['Cancelled'].iloc[train]\n",
    "    alg.fit(scaler.transform(X_train), y_train)\n",
    "    X_test = (cv_data[predictors].iloc[test,:])\n",
    "    y_test = cv_data['Cancelled'].iloc[test]\n",
    "    test_predictions = alg.predict(scaler.transform(X_test))\n",
    "    predictions.append(test_predictions)\n",
    "    gc.collect()\n",
    "\n",
    "predictions = np.concatenate(predictions,axis = 0)\n",
    "conf_matrix = confusion_matrix(cv_data['Cancelled'].values, predictions)\n",
    "print('Confusion matrix')\n",
    "print(pd.DataFrame(conf_matrix))\n",
    "scores = precision_recall_fscore_support(cv_data['Cancelled'].values, predictions)\n",
    "print(('precision = {0:.3f}, recall = {1:.3f}, F1 = {2:.3f}, ' \n",
    "       'accuracy = {3:.3f}, saved cost per flight = ${4:.2f}').format(scores[0][1],scores[1][1],scores[2][1],\n",
    "                                                        accuracy_score(cv_data['Cancelled'].values, predictions),\n",
    "                                                        cost_saved(conf_matrix)/len(predictions)))"
   ]
  },
  {
   "cell_type": "code",
   "execution_count": 57,
   "metadata": {
    "collapsed": false
   },
   "outputs": [
    {
     "name": "stdout",
     "output_type": "stream",
     "text": [
      "Confusion matrix\n",
      "        0     1\n",
      "0  571243  1868\n",
      "1    7263  1534\n",
      "precision = 0.451, recall = 0.174, F1 = 0.251, accuracy = 0.984, saved cost per flight = $18.44\n"
     ]
    }
   ],
   "source": [
    "alg = RandomForestClassifier(n_estimators=5)\n",
    "#Features from original data\n",
    "predictors = list(model_data.columns[2:94])\n",
    "\n",
    "#Split the data into 10 subsets\n",
    "kf = KFold(cv_data.shape[0], n_folds = 10, random_state = 1)\n",
    "predictions = []\n",
    "\n",
    "#Train and predict\n",
    "for train, test in kf:\n",
    "    X_train = (cv_data[predictors].iloc[train,:])\n",
    "    scaler = StandardScaler().fit(X_train)\n",
    "    y_train = cv_data['Cancelled'].iloc[train]\n",
    "    alg.fit(scaler.transform(X_train), y_train)\n",
    "    X_test = (cv_data[predictors].iloc[test,:])\n",
    "    y_test = cv_data['Cancelled'].iloc[test]\n",
    "    test_predictions = alg.predict(scaler.transform(X_test))\n",
    "    predictions.append(test_predictions)\n",
    "    gc.collect()\n",
    "\n",
    "predictions = np.concatenate(predictions,axis = 0)\n",
    "conf_matrix = confusion_matrix(cv_data['Cancelled'].values, predictions)\n",
    "print('Confusion matrix')\n",
    "print(pd.DataFrame(conf_matrix))\n",
    "scores = precision_recall_fscore_support(cv_data['Cancelled'].values, predictions)\n",
    "print(('precision = {0:.3f}, recall = {1:.3f}, F1 = {2:.3f}, ' \n",
    "       'accuracy = {3:.3f}, saved cost per flight = ${4:.2f}').format(scores[0][1],scores[1][1],scores[2][1],\n",
    "                                                        accuracy_score(cv_data['Cancelled'].values, predictions),\n",
    "                                                        cost_saved(conf_matrix)/len(predictions)))"
   ]
  },
  {
   "cell_type": "code",
   "execution_count": 58,
   "metadata": {
    "collapsed": false
   },
   "outputs": [
    {
     "name": "stdout",
     "output_type": "stream",
     "text": [
      "Wall time: 2min 17s\n",
      "Wall time: 2min 29s\n",
      "Wall time: 2min 23s\n",
      "Wall time: 2min 36s\n",
      "Wall time: 2min 35s\n",
      "Wall time: 2min 38s\n",
      "Wall time: 2min 13s\n",
      "Wall time: 2min 17s\n",
      "Wall time: 2min 12s\n",
      "Wall time: 2min 25s\n",
      "Confusion matrix\n",
      "        0    1\n",
      "0  572874  237\n",
      "1    7890  907\n",
      "precision = 0.793, recall = 0.103, F1 = 0.182, accuracy = 0.986, saved cost per flight = $12.13\n"
     ]
    }
   ],
   "source": [
    "alg = RandomForestClassifier(n_estimators=50,min_samples_leaf=3)\n",
    "#Features from original data\n",
    "predictors = list(model_data.columns[2:])\n",
    "\n",
    "#Split the data into 10 subsets\n",
    "kf = KFold(cv_data.shape[0], n_folds = 10, random_state = 1)\n",
    "predictions = []\n",
    "\n",
    "#Train and predict\n",
    "for train, test in kf:\n",
    "    X_train = (cv_data[predictors].iloc[train,:])\n",
    "    scaler = StandardScaler().fit(X_train)\n",
    "    y_train = cv_data['Cancelled'].iloc[train]\n",
    "    %time alg.fit(scaler.transform(X_train), y_train)\n",
    "    X_test = (cv_data[predictors].iloc[test,:])\n",
    "    y_test = cv_data['Cancelled'].iloc[test]\n",
    "    test_predictions = alg.predict(scaler.transform(X_test))\n",
    "    predictions.append(test_predictions)\n",
    "    gc.collect()\n",
    "\n",
    "predictions = np.concatenate(predictions,axis = 0)\n",
    "conf_matrix = confusion_matrix(cv_data['Cancelled'].values, predictions)\n",
    "print('Confusion matrix')\n",
    "print(pd.DataFrame(conf_matrix))\n",
    "scores = precision_recall_fscore_support(cv_data['Cancelled'].values, predictions)\n",
    "print(('precision = {0:.3f}, recall = {1:.3f}, F1 = {2:.3f}, ' \n",
    "       'accuracy = {3:.3f}, saved cost per flight = ${4:.2f}').format(scores[0][1],scores[1][1],scores[2][1],\n",
    "                                                        accuracy_score(cv_data['Cancelled'].values, predictions),\n",
    "                                                        cost_saved(conf_matrix)/len(predictions)))"
   ]
  },
  {
   "cell_type": "markdown",
   "metadata": {},
   "source": [
    "Let's finally see how we perform without any 'future' knowledge."
   ]
  },
  {
   "cell_type": "code",
   "execution_count": 63,
   "metadata": {
    "collapsed": false
   },
   "outputs": [
    {
     "name": "stdout",
     "output_type": "stream",
     "text": [
      "Confusion matrix\n",
      "        0     1\n",
      "0  571817  1294\n",
      "1    7525  1272\n",
      "precision = 0.496, recall = 0.145, F1 = 0.224, accuracy = 0.985, saved cost per flight = $15.65\n"
     ]
    }
   ],
   "source": [
    "alg = RandomForestClassifier(n_estimators=5)\n",
    "#Features from original data\n",
    "predictors = list(model_data.columns[2:8])+list(model_data.columns[9:81])+list(model_data.columns[94:])\n",
    "\n",
    "#Split the data into 10 subsets\n",
    "kf = KFold(cv_data.shape[0], n_folds = 10, random_state = 1)\n",
    "predictions = []\n",
    "\n",
    "#Train and predict\n",
    "for train, test in kf:\n",
    "    X_train = (cv_data[predictors].iloc[train,:])\n",
    "    scaler = StandardScaler().fit(X_train)\n",
    "    y_train = cv_data['Cancelled'].iloc[train]\n",
    "    alg.fit(scaler.transform(X_train), y_train)\n",
    "    X_test = (cv_data[predictors].iloc[test,:])\n",
    "    y_test = cv_data['Cancelled'].iloc[test]\n",
    "    test_predictions = alg.predict(scaler.transform(X_test))\n",
    "    predictions.append(test_predictions)\n",
    "    gc.collect()\n",
    "\n",
    "predictions = np.concatenate(predictions,axis = 0)\n",
    "conf_matrix = confusion_matrix(cv_data['Cancelled'].values, predictions)\n",
    "print('Confusion matrix')\n",
    "print(pd.DataFrame(conf_matrix))\n",
    "scores = precision_recall_fscore_support(cv_data['Cancelled'].values, predictions)\n",
    "print(('precision = {0:.3f}, recall = {1:.3f}, F1 = {2:.3f}, ' \n",
    "       'accuracy = {3:.3f}, saved cost per flight = ${4:.2f}').format(scores[0][1],scores[1][1],scores[2][1],\n",
    "                                                        accuracy_score(cv_data['Cancelled'].values, predictions),\n",
    "                                                        cost_saved(conf_matrix)/len(predictions)))"
   ]
  },
  {
   "cell_type": "code",
   "execution_count": null,
   "metadata": {
    "collapsed": true
   },
   "outputs": [],
   "source": []
  }
 ],
 "metadata": {
  "kernelspec": {
   "display_name": "Python 3",
   "language": "python",
   "name": "python3"
  },
  "language_info": {
   "codemirror_mode": {
    "name": "ipython",
    "version": 3
   },
   "file_extension": ".py",
   "mimetype": "text/x-python",
   "name": "python",
   "nbconvert_exporter": "python",
   "pygments_lexer": "ipython3",
   "version": "3.5.2"
  }
 },
 "nbformat": 4,
 "nbformat_minor": 0
}
